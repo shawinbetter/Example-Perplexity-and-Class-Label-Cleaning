{
 "cells": [
  {
   "cell_type": "code",
   "execution_count": 2,
   "id": "known-circumstances",
   "metadata": {},
   "outputs": [],
   "source": [
    "import json\n",
    "import pandas as pd\n",
    "import os\n",
    "# with open('imagenet_sources/imagenet_class_index.json') as f:\n",
    "#       data = json.load(f)\n",
    "# identity,nums,label = [],[],[]\n",
    "# for key in data.keys():\n",
    "#     identity.append(key)\n",
    "#     nums.append(data[key][0])\n",
    "#     label.append(data[key][1])\n",
    "# folder_id= dict(zip(nums,identity))\n",
    "# pd.DataFrame({'ID':identity,'Nums':nums,'Label':label}).to_csv('id_label_map.csv',index=None)"
   ]
  },
  {
   "cell_type": "code",
   "execution_count": 2,
   "id": "excited-malta",
   "metadata": {},
   "outputs": [],
   "source": [
    "# DIR = 'imagenet-mini/'\n",
    "# Train_path, Val_path = [],[]\n",
    "# Train_label, Val_label = [],[]\n",
    "# for num in nums:\n",
    "#     for img in os.listdir(DIR+'train/'+num):\n",
    "#         Train_path.append(DIR+'train/'+num+'/'+img)\n",
    "#         Train_label.append(folder_id[num])\n",
    "# for num in nums:\n",
    "#     for img in os.listdir(DIR+'val/'+num):\n",
    "#         Val_path.append(DIR+'val/'+num+'/'+img)\n",
    "#         Val_label.append(folder_id[num])\n",
    "# train = pd.DataFrame({'IMG_PATH':Train_path,'LABEL':Train_label}).sample(frac=1).reset_index()[['IMG_PATH','LABEL']]\n",
    "# val = pd.DataFrame({'IMG_PATH':Val_path,'LABEL':Val_label }).sample(frac=1).reset_index()[['IMG_PATH','LABEL']]\n",
    "# train.to_csv('Train.csv',index=None)\n",
    "# val.to_csv('Val.csv',index=None)"
   ]
  },
  {
   "cell_type": "code",
   "execution_count": 4,
   "id": "variable-acting",
   "metadata": {},
   "outputs": [
    {
     "data": {
      "text/html": [
       "<div>\n",
       "<style scoped>\n",
       "    .dataframe tbody tr th:only-of-type {\n",
       "        vertical-align: middle;\n",
       "    }\n",
       "\n",
       "    .dataframe tbody tr th {\n",
       "        vertical-align: top;\n",
       "    }\n",
       "\n",
       "    .dataframe thead th {\n",
       "        text-align: right;\n",
       "    }\n",
       "</style>\n",
       "<table border=\"1\" class=\"dataframe\">\n",
       "  <thead>\n",
       "    <tr style=\"text-align: right;\">\n",
       "      <th></th>\n",
       "      <th>PATH</th>\n",
       "      <th>C_PERPLEXITY</th>\n",
       "    </tr>\n",
       "  </thead>\n",
       "  <tbody>\n",
       "    <tr>\n",
       "      <th>0</th>\n",
       "      <td>./ILSVRC2012_img_train/n01440764/n01440764_100...</td>\n",
       "      <td>1.034106</td>\n",
       "    </tr>\n",
       "    <tr>\n",
       "      <th>1</th>\n",
       "      <td>./ILSVRC2012_img_train/n01440764/n01440764_100...</td>\n",
       "      <td>1.002333</td>\n",
       "    </tr>\n",
       "    <tr>\n",
       "      <th>2</th>\n",
       "      <td>./ILSVRC2012_img_train/n01440764/n01440764_100...</td>\n",
       "      <td>1.056226</td>\n",
       "    </tr>\n",
       "    <tr>\n",
       "      <th>3</th>\n",
       "      <td>./ILSVRC2012_img_train/n01440764/n01440764_100...</td>\n",
       "      <td>1.172560</td>\n",
       "    </tr>\n",
       "    <tr>\n",
       "      <th>4</th>\n",
       "      <td>./ILSVRC2012_img_train/n01440764/n01440764_100...</td>\n",
       "      <td>2.094654</td>\n",
       "    </tr>\n",
       "  </tbody>\n",
       "</table>\n",
       "</div>"
      ],
      "text/plain": [
       "                                                PATH  C_PERPLEXITY\n",
       "0  ./ILSVRC2012_img_train/n01440764/n01440764_100...      1.034106\n",
       "1  ./ILSVRC2012_img_train/n01440764/n01440764_100...      1.002333\n",
       "2  ./ILSVRC2012_img_train/n01440764/n01440764_100...      1.056226\n",
       "3  ./ILSVRC2012_img_train/n01440764/n01440764_100...      1.172560\n",
       "4  ./ILSVRC2012_img_train/n01440764/n01440764_100...      2.094654"
      ]
     },
     "execution_count": 4,
     "metadata": {},
     "output_type": "execute_result"
    }
   ],
   "source": [
    "train = pd.read_csv('perp_data/TRAIN_PATH_CPERPLEXITY.csv')\n",
    "train.head()"
   ]
  },
  {
   "cell_type": "code",
   "execution_count": 5,
   "id": "innocent-personal",
   "metadata": {},
   "outputs": [],
   "source": [
    "mapper = pd.read_csv('data/id_label_map.csv')\n",
    "id_label = dict(zip(mapper['ID'],mapper['Label']))\n",
    "folder_id= dict(zip(mapper['Nums'],mapper['ID']))"
   ]
  },
  {
   "cell_type": "code",
   "execution_count": 6,
   "id": "incorporate-dressing",
   "metadata": {},
   "outputs": [
    {
     "data": {
      "text/html": [
       "<div>\n",
       "<style scoped>\n",
       "    .dataframe tbody tr th:only-of-type {\n",
       "        vertical-align: middle;\n",
       "    }\n",
       "\n",
       "    .dataframe tbody tr th {\n",
       "        vertical-align: top;\n",
       "    }\n",
       "\n",
       "    .dataframe thead th {\n",
       "        text-align: right;\n",
       "    }\n",
       "</style>\n",
       "<table border=\"1\" class=\"dataframe\">\n",
       "  <thead>\n",
       "    <tr style=\"text-align: right;\">\n",
       "      <th></th>\n",
       "      <th>PATH</th>\n",
       "      <th>LABEL</th>\n",
       "    </tr>\n",
       "  </thead>\n",
       "  <tbody>\n",
       "    <tr>\n",
       "      <th>0</th>\n",
       "      <td>/4tssd/imagenet/train/n04458633/n04458633_3152...</td>\n",
       "      <td>863</td>\n",
       "    </tr>\n",
       "    <tr>\n",
       "      <th>1</th>\n",
       "      <td>/4tssd/imagenet/train/n02444819/n02444819_8277...</td>\n",
       "      <td>360</td>\n",
       "    </tr>\n",
       "    <tr>\n",
       "      <th>2</th>\n",
       "      <td>/4tssd/imagenet/train/n01944390/n01944390_577....</td>\n",
       "      <td>113</td>\n",
       "    </tr>\n",
       "    <tr>\n",
       "      <th>3</th>\n",
       "      <td>/4tssd/imagenet/train/n02106030/n02106030_3842...</td>\n",
       "      <td>231</td>\n",
       "    </tr>\n",
       "    <tr>\n",
       "      <th>4</th>\n",
       "      <td>/4tssd/imagenet/train/n03670208/n03670208_1500...</td>\n",
       "      <td>627</td>\n",
       "    </tr>\n",
       "  </tbody>\n",
       "</table>\n",
       "</div>"
      ],
      "text/plain": [
       "                                                PATH  LABEL\n",
       "0  /4tssd/imagenet/train/n04458633/n04458633_3152...    863\n",
       "1  /4tssd/imagenet/train/n02444819/n02444819_8277...    360\n",
       "2  /4tssd/imagenet/train/n01944390/n01944390_577....    113\n",
       "3  /4tssd/imagenet/train/n02106030/n02106030_3842...    231\n",
       "4  /4tssd/imagenet/train/n03670208/n03670208_1500...    627"
      ]
     },
     "execution_count": 6,
     "metadata": {},
     "output_type": "execute_result"
    }
   ],
   "source": [
    "def replace_path(x):\n",
    "    return x.replace('./ILSVRC2012_img_train','/4tssd/imagenet/train')\n",
    "def get_label(x):\n",
    "    return folder_id[x.split('/')[4]]\n",
    "train['PATH'] = train['PATH'].apply(replace_path)\n",
    "train['LABEL'] = train['PATH'].apply(get_label)\n",
    "train = train.drop(labels='C_PERPLEXITY', axis=1)\n",
    "train = train.sample(frac = 1)\n",
    "train = train.reset_index().iloc[:,1::]\n",
    "train.head()"
   ]
  },
  {
   "cell_type": "code",
   "execution_count": 14,
   "id": "indirect-inclusion",
   "metadata": {},
   "outputs": [],
   "source": [
    "train.to_csv('data/FULL_TRAIN.csv',index=None)"
   ]
  },
  {
   "cell_type": "code",
   "execution_count": 26,
   "id": "efficient-turner",
   "metadata": {},
   "outputs": [
    {
     "data": {
      "text/html": [
       "<div>\n",
       "<style scoped>\n",
       "    .dataframe tbody tr th:only-of-type {\n",
       "        vertical-align: middle;\n",
       "    }\n",
       "\n",
       "    .dataframe tbody tr th {\n",
       "        vertical-align: top;\n",
       "    }\n",
       "\n",
       "    .dataframe thead th {\n",
       "        text-align: right;\n",
       "    }\n",
       "</style>\n",
       "<table border=\"1\" class=\"dataframe\">\n",
       "  <thead>\n",
       "    <tr style=\"text-align: right;\">\n",
       "      <th></th>\n",
       "      <th>PATH</th>\n",
       "      <th>LABEL</th>\n",
       "    </tr>\n",
       "  </thead>\n",
       "  <tbody>\n",
       "    <tr>\n",
       "      <th>0</th>\n",
       "      <td>/4tssd/imagenet/val/ILSVRC2012_val_00000001.JPEG</td>\n",
       "      <td>489</td>\n",
       "    </tr>\n",
       "    <tr>\n",
       "      <th>1</th>\n",
       "      <td>/4tssd/imagenet/val/ILSVRC2012_val_00000002.JPEG</td>\n",
       "      <td>360</td>\n",
       "    </tr>\n",
       "    <tr>\n",
       "      <th>2</th>\n",
       "      <td>/4tssd/imagenet/val/ILSVRC2012_val_00000003.JPEG</td>\n",
       "      <td>170</td>\n",
       "    </tr>\n",
       "    <tr>\n",
       "      <th>3</th>\n",
       "      <td>/4tssd/imagenet/val/ILSVRC2012_val_00000004.JPEG</td>\n",
       "      <td>821</td>\n",
       "    </tr>\n",
       "    <tr>\n",
       "      <th>4</th>\n",
       "      <td>/4tssd/imagenet/val/ILSVRC2012_val_00000005.JPEG</td>\n",
       "      <td>296</td>\n",
       "    </tr>\n",
       "  </tbody>\n",
       "</table>\n",
       "</div>"
      ],
      "text/plain": [
       "                                               PATH  LABEL\n",
       "0  /4tssd/imagenet/val/ILSVRC2012_val_00000001.JPEG    489\n",
       "1  /4tssd/imagenet/val/ILSVRC2012_val_00000002.JPEG    360\n",
       "2  /4tssd/imagenet/val/ILSVRC2012_val_00000003.JPEG    170\n",
       "3  /4tssd/imagenet/val/ILSVRC2012_val_00000004.JPEG    821\n",
       "4  /4tssd/imagenet/val/ILSVRC2012_val_00000005.JPEG    296"
      ]
     },
     "execution_count": 26,
     "metadata": {},
     "output_type": "execute_result"
    }
   ],
   "source": [
    "def replace_path(x):\n",
    "    return '/4tssd/imagenet/val/'+x\n",
    "with open('imagenet_sources/ILSVRC2012_validation_ground_truth.txt','r') as f:\n",
    "    lines = f.readlines()\n",
    "    f.close()\n",
    "def minus1(label):\n",
    "    return int(label) - 1\n",
    "lines = [i.replace('\\n','') for i in lines]\n",
    "val = pd.read_csv('perp_data/VAL_PATH_CPERPLEXITY.csv')\n",
    "val['PATH'] = val['PATH'].apply(replace_path)\n",
    "val['LABEL'] = lines\n",
    "val['LABEL']  = val['LABEL'].apply(minus1)\n",
    "val = val.drop(labels='C_PERPLEXITY', axis=1)\n",
    "val = val.reset_index().iloc[:,1::]\n",
    "val.head()"
   ]
  },
  {
   "cell_type": "code",
   "execution_count": 27,
   "id": "broad-netherlands",
   "metadata": {},
   "outputs": [],
   "source": [
    "val.to_csv('data/FULL_VAL.csv',index=None)"
   ]
  }
 ],
 "metadata": {
  "kernelspec": {
   "display_name": "Python 3",
   "language": "python",
   "name": "python3"
  },
  "language_info": {
   "codemirror_mode": {
    "name": "ipython",
    "version": 3
   },
   "file_extension": ".py",
   "mimetype": "text/x-python",
   "name": "python",
   "nbconvert_exporter": "python",
   "pygments_lexer": "ipython3",
   "version": "3.8.6"
  }
 },
 "nbformat": 4,
 "nbformat_minor": 5
}

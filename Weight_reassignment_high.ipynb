{
 "cells": [
  {
   "cell_type": "code",
   "execution_count": 1,
   "id": "coordinated-thomas",
   "metadata": {},
   "outputs": [],
   "source": [
    "import pandas as pd\n",
    "import numpy as np\n",
    "import matplotlib.pyplot as plt\n",
    "import seaborn as sns\n",
    "sns.set_palette(\"hls\")"
   ]
  },
  {
   "cell_type": "markdown",
   "id": "different-apparatus",
   "metadata": {},
   "source": [
    "## Read Data"
   ]
  },
  {
   "cell_type": "code",
   "execution_count": 2,
   "id": "naughty-orleans",
   "metadata": {},
   "outputs": [],
   "source": [
    "c_perp = pd.read_csv('perp_data/TRAIN_PATH_CPERPLEXITY.csv')\n",
    "x_perp = pd.read_csv('perp_data/TRAIN_PATH_XPERPLEXITY.csv')\n",
    "combine = pd.merge(c_perp,x_perp)"
   ]
  },
  {
   "cell_type": "code",
   "execution_count": 3,
   "id": "heard-desktop",
   "metadata": {},
   "outputs": [
    {
     "name": "stdout",
     "output_type": "stream",
     "text": [
      "Nums of Training Example : 1281167\n"
     ]
    }
   ],
   "source": [
    "print('Nums of Training Example :',len(combine))"
   ]
  },
  {
   "cell_type": "markdown",
   "id": "convenient-joseph",
   "metadata": {},
   "source": [
    "## X-Perplexity"
   ]
  },
  {
   "cell_type": "markdown",
   "id": "contained-routine",
   "metadata": {},
   "source": [
    "#### Just plot the distribution of X_perplexity again. \n",
    "\n",
    "#### It is clear that the frequency of X_Perplexity is basically decrease monotonically with the increase of X_perplexity."
   ]
  },
  {
   "cell_type": "markdown",
   "id": "compact-latter",
   "metadata": {},
   "source": [
    "![](img/TRAIN_X_PERPLEXITY.png)"
   ]
  },
  {
   "cell_type": "markdown",
   "id": "white-hazard",
   "metadata": {},
   "source": [
    "#### we want examples with higher perplexity have higher weights. Therefore, the designed weight function should have following property:\n",
    "\n",
    "#### 1. the weight of examples shoule be monotonically increasing with its X-perplexity\n",
    "\n",
    "#### 2. The derivative of the weight function should also increase monotonically."
   ]
  },
  {
   "cell_type": "markdown",
   "id": "pregnant-religious",
   "metadata": {},
   "source": [
    "$$f = exp(x)$$"
   ]
  },
  {
   "cell_type": "markdown",
   "id": "wooden-credit",
   "metadata": {},
   "source": [
    "#### And for simplicity, I use binning to divide the perplexity into 100 groups in range of [0,1] uniformly."
   ]
  },
  {
   "cell_type": "code",
   "execution_count": 4,
   "id": "involved-talent",
   "metadata": {},
   "outputs": [],
   "source": [
    "def cal_weight(x):\n",
    "    return np.exp(x)\n",
    "    \n",
    "combine['X_Weight'] = combine['X_PERPLEXITY'].apply(cal_weight)  "
   ]
  },
  {
   "cell_type": "markdown",
   "id": "unnecessary-session",
   "metadata": {},
   "source": [
    "## C_PERPLEXITY"
   ]
  },
  {
   "cell_type": "markdown",
   "id": "apart-latex",
   "metadata": {},
   "source": [
    "#### First, take a look of the distribution of C_PERPLEXITY"
   ]
  },
  {
   "cell_type": "markdown",
   "id": "global-combine",
   "metadata": {},
   "source": [
    "![](img/TRAIN_C_PERPLEXITY.png)"
   ]
  },
  {
   "cell_type": "markdown",
   "id": "anonymous-rhythm",
   "metadata": {},
   "source": [
    "#### Export the weight to .csv file"
   ]
  },
  {
   "cell_type": "code",
   "execution_count": 5,
   "id": "sacred-debate",
   "metadata": {},
   "outputs": [],
   "source": [
    "mapper = pd.read_csv('data/id_label_map.csv')\n",
    "id_label = dict(zip(mapper['ID'],mapper['Label']))\n",
    "folder_id= dict(zip(mapper['Nums'],mapper['ID']))\n",
    "def replace_path(x):\n",
    "    return x.replace('./ILSVRC2012_img_train','/4tssd/imagenet/train')\n",
    "def get_label(x):\n",
    "    return x.split('/')[4]"
   ]
  },
  {
   "cell_type": "code",
   "execution_count": 6,
   "id": "valuable-occasions",
   "metadata": {},
   "outputs": [],
   "source": [
    "combine['PATH'] = combine['PATH'].apply(replace_path)\n",
    "combine['LABEL'] = combine['PATH'].apply(get_label)\n",
    "combine = combine.sample(frac = 1) #shuffle the training data for training\n",
    "combine.to_csv('data/WEIGHT_TRAINING_HIGH.csv',index=None)"
   ]
  },
  {
   "cell_type": "code",
   "execution_count": null,
   "id": "1bd05ec6-c148-4cdb-abfa-250ccf32f639",
   "metadata": {},
   "outputs": [],
   "source": []
  }
 ],
 "metadata": {
  "kernelspec": {
   "display_name": "Python 3 (ipykernel)",
   "language": "python",
   "name": "python3"
  },
  "language_info": {
   "codemirror_mode": {
    "name": "ipython",
    "version": 3
   },
   "file_extension": ".py",
   "mimetype": "text/x-python",
   "name": "python",
   "nbconvert_exporter": "python",
   "pygments_lexer": "ipython3",
   "version": "3.8.12"
  }
 },
 "nbformat": 4,
 "nbformat_minor": 5
}

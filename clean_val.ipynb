{
 "cells": [
  {
   "cell_type": "code",
   "execution_count": 36,
   "id": "25d20f65-127a-482d-a4e7-511f4e465834",
   "metadata": {},
   "outputs": [],
   "source": [
    "import pandas as pd\n",
    "import numpy as np\n",
    "import os\n",
    "import shutil"
   ]
  },
  {
   "cell_type": "code",
   "execution_count": 37,
   "id": "b1f78ec4-6f04-4674-b8e1-941b7816a0e7",
   "metadata": {},
   "outputs": [
    {
     "data": {
      "text/html": [
       "<div>\n",
       "<style scoped>\n",
       "    .dataframe tbody tr th:only-of-type {\n",
       "        vertical-align: middle;\n",
       "    }\n",
       "\n",
       "    .dataframe tbody tr th {\n",
       "        vertical-align: top;\n",
       "    }\n",
       "\n",
       "    .dataframe thead th {\n",
       "        text-align: right;\n",
       "    }\n",
       "</style>\n",
       "<table border=\"1\" class=\"dataframe\">\n",
       "  <thead>\n",
       "    <tr style=\"text-align: right;\">\n",
       "      <th></th>\n",
       "      <th>filename</th>\n",
       "      <th>label</th>\n",
       "      <th>x_perplexity</th>\n",
       "      <th>c_perplexity</th>\n",
       "      <th>x_perplexity_label</th>\n",
       "      <th>top 5 c_perplexity class</th>\n",
       "      <th>top 5 x_perplexity class</th>\n",
       "      <th>top_5_c_perplexity_class_1</th>\n",
       "      <th>top_5_x_perplexity_class_1</th>\n",
       "    </tr>\n",
       "  </thead>\n",
       "  <tbody>\n",
       "    <tr>\n",
       "      <th>0</th>\n",
       "      <td>ILSVRC2012_val_00000001.JPEG</td>\n",
       "      <td>n01751748</td>\n",
       "      <td>0.492</td>\n",
       "      <td>3.379219</td>\n",
       "      <td>0.4-0.5</td>\n",
       "      <td>[('n01751748', 0.29968047589686897), ('n017370...</td>\n",
       "      <td>[('n01751748', 254), ('n01737021', 80), ('n016...</td>\n",
       "      <td>[['n01751748', 'sea_snake', 0.2996804758968689...</td>\n",
       "      <td>[['n01751748', 'sea_snake', 254], ['n01737021'...</td>\n",
       "    </tr>\n",
       "    <tr>\n",
       "      <th>1</th>\n",
       "      <td>ILSVRC2012_val_00000002.JPEG</td>\n",
       "      <td>n09193705</td>\n",
       "      <td>0.992</td>\n",
       "      <td>1.129952</td>\n",
       "      <td>0.9-1</td>\n",
       "      <td>[('n09193705', 0.0913119113437396), ('n0422805...</td>\n",
       "      <td>[('n04228054', 492), ('n04208210', 4), ('n0919...</td>\n",
       "      <td>[['n09193705', 'alp', 0.0913119113437396], ['n...</td>\n",
       "      <td>[['n04228054', 'ski', 492], ['n04208210', 'sho...</td>\n",
       "    </tr>\n",
       "    <tr>\n",
       "      <th>2</th>\n",
       "      <td>ILSVRC2012_val_00000003.JPEG</td>\n",
       "      <td>n02105855</td>\n",
       "      <td>0.252</td>\n",
       "      <td>1.607961</td>\n",
       "      <td>0.2-0.3</td>\n",
       "      <td>[('n02106030', 0.3686509231556556), ('n0210585...</td>\n",
       "      <td>[('n02105855', 374), ('n02106030', 126)]</td>\n",
       "      <td>[['n02106030', 'collie', 0.3686509231556556], ...</td>\n",
       "      <td>[['n02105855', 'Shetland_sheepdog', 374], ['n0...</td>\n",
       "    </tr>\n",
       "    <tr>\n",
       "      <th>3</th>\n",
       "      <td>ILSVRC2012_val_00000004.JPEG</td>\n",
       "      <td>n04263257</td>\n",
       "      <td>0.238</td>\n",
       "      <td>2.611515</td>\n",
       "      <td>0.2-0.3</td>\n",
       "      <td>[('n04263257', 0.32102970098367223), ('n079308...</td>\n",
       "      <td>[('n04263257', 381), ('n03775546', 36), ('n079...</td>\n",
       "      <td>[['n04263257', 'soup_bowl', 0.3210297009836722...</td>\n",
       "      <td>[['n04263257', 'soup_bowl', 381], ['n03775546'...</td>\n",
       "    </tr>\n",
       "    <tr>\n",
       "      <th>4</th>\n",
       "      <td>ILSVRC2012_val_00000005.JPEG</td>\n",
       "      <td>n03125729</td>\n",
       "      <td>0.884</td>\n",
       "      <td>3.114571</td>\n",
       "      <td>0.8-0.9</td>\n",
       "      <td>[('n03131574', 0.34685870383373185), ('n031257...</td>\n",
       "      <td>[('n03131574', 304), ('n02804414', 116), ('n03...</td>\n",
       "      <td>[['n03131574', 'crib', 0.34685870383373185], [...</td>\n",
       "      <td>[['n03131574', 'crib', 304], ['n02804414', 'ba...</td>\n",
       "    </tr>\n",
       "  </tbody>\n",
       "</table>\n",
       "</div>"
      ],
      "text/plain": [
       "                       filename      label  x_perplexity  c_perplexity  \\\n",
       "0  ILSVRC2012_val_00000001.JPEG  n01751748         0.492      3.379219   \n",
       "1  ILSVRC2012_val_00000002.JPEG  n09193705         0.992      1.129952   \n",
       "2  ILSVRC2012_val_00000003.JPEG  n02105855         0.252      1.607961   \n",
       "3  ILSVRC2012_val_00000004.JPEG  n04263257         0.238      2.611515   \n",
       "4  ILSVRC2012_val_00000005.JPEG  n03125729         0.884      3.114571   \n",
       "\n",
       "  x_perplexity_label                           top 5 c_perplexity class  \\\n",
       "0            0.4-0.5  [('n01751748', 0.29968047589686897), ('n017370...   \n",
       "1              0.9-1  [('n09193705', 0.0913119113437396), ('n0422805...   \n",
       "2            0.2-0.3  [('n02106030', 0.3686509231556556), ('n0210585...   \n",
       "3            0.2-0.3  [('n04263257', 0.32102970098367223), ('n079308...   \n",
       "4            0.8-0.9  [('n03131574', 0.34685870383373185), ('n031257...   \n",
       "\n",
       "                            top 5 x_perplexity class  \\\n",
       "0  [('n01751748', 254), ('n01737021', 80), ('n016...   \n",
       "1  [('n04228054', 492), ('n04208210', 4), ('n0919...   \n",
       "2           [('n02105855', 374), ('n02106030', 126)]   \n",
       "3  [('n04263257', 381), ('n03775546', 36), ('n079...   \n",
       "4  [('n03131574', 304), ('n02804414', 116), ('n03...   \n",
       "\n",
       "                          top_5_c_perplexity_class_1  \\\n",
       "0  [['n01751748', 'sea_snake', 0.2996804758968689...   \n",
       "1  [['n09193705', 'alp', 0.0913119113437396], ['n...   \n",
       "2  [['n02106030', 'collie', 0.3686509231556556], ...   \n",
       "3  [['n04263257', 'soup_bowl', 0.3210297009836722...   \n",
       "4  [['n03131574', 'crib', 0.34685870383373185], [...   \n",
       "\n",
       "                          top_5_x_perplexity_class_1  \n",
       "0  [['n01751748', 'sea_snake', 254], ['n01737021'...  \n",
       "1  [['n04228054', 'ski', 492], ['n04208210', 'sho...  \n",
       "2  [['n02105855', 'Shetland_sheepdog', 374], ['n0...  \n",
       "3  [['n04263257', 'soup_bowl', 381], ['n03775546'...  \n",
       "4  [['n03131574', 'crib', 304], ['n02804414', 'ba...  "
      ]
     },
     "execution_count": 37,
     "metadata": {},
     "output_type": "execute_result"
    }
   ],
   "source": [
    "path = 'perp_data/'\n",
    "df = pd.read_csv(path+'perplexity.csv')\n",
    "df.head()"
   ]
  },
  {
   "cell_type": "code",
   "execution_count": 51,
   "id": "6782529b-d2ac-42be-bcd1-d145279753b5",
   "metadata": {},
   "outputs": [],
   "source": [
    "x_threshold = 0.8"
   ]
  },
  {
   "cell_type": "code",
   "execution_count": 52,
   "id": "08621224-07d3-4a95-aeb3-bff5d9159814",
   "metadata": {},
   "outputs": [],
   "source": [
    "filename = list(df[df['x_perplexity'] >= x_threshold]['filename'])"
   ]
  },
  {
   "cell_type": "code",
   "execution_count": 57,
   "id": "f02c67b7-1df7-437e-b022-588a97cd846e",
   "metadata": {},
   "outputs": [],
   "source": [
    "for folder in os.listdir('val_clean/'):\n",
    "    if '.' not in folder:\n",
    "        for imglist in os.listdir('val_clean/'+folder+'/'):\n",
    "            if imglist not in filename:\n",
    "                try:\n",
    "                    os.remove('val_clean/'+folder+'/'+imglist)\n",
    "                except:\n",
    "                    continue"
   ]
  },
  {
   "cell_type": "code",
   "execution_count": 34,
   "id": "2e8978f3-49a4-4ca7-ab9d-ae7a620427d8",
   "metadata": {},
   "outputs": [],
   "source": [
    "def find_tvl_label(filename):\n",
    "    try:\n",
    "        return df[df['filename']==filename]['top 5 x_perplexity class'].tolist()[0][3:12]\n",
    "    except:\n",
    "        print(filename)"
   ]
  },
  {
   "cell_type": "code",
   "execution_count": 33,
   "id": "658cd012-9612-475e-9fa7-04daae5e2144",
   "metadata": {},
   "outputs": [
    {
     "data": {
      "text/plain": [
       "\"[('n04049303', 463), ('n02795169', 37)]\""
      ]
     },
     "execution_count": 33,
     "metadata": {},
     "output_type": "execute_result"
    }
   ],
   "source": [
    "df[df['filename']=='ILSVRC2012_val_00031883.JPEG']['top 5 x_perplexity class'].tolist()[0]"
   ]
  },
  {
   "cell_type": "code",
   "execution_count": 35,
   "id": "5b8784e8-9f21-4a40-953a-683d8ad0eba0",
   "metadata": {},
   "outputs": [],
   "source": [
    "for folder in os.listdir('val_clean/'):\n",
    "    if '.' not in folder:\n",
    "        for imglist in os.listdir('val_clean/'+folder+'/'):\n",
    "            if '.ipynb' not in imglist:\n",
    "                src = 'val_clean/'+folder+'/' + imglist\n",
    "                dst = 'val_clean/'+find_tvl_label(imglist)+'/'+imglist\n",
    "                shutil.move(src, dst)"
   ]
  },
  {
   "cell_type": "code",
   "execution_count": 56,
   "id": "9a9c0d69-2954-492b-a2d7-6e71344e8d39",
   "metadata": {},
   "outputs": [
    {
     "data": {
      "text/plain": [
       "8876"
      ]
     },
     "execution_count": 56,
     "metadata": {},
     "output_type": "execute_result"
    }
   ],
   "source": [
    "len(filename)"
   ]
  },
  {
   "cell_type": "code",
   "execution_count": null,
   "id": "bd5a9c33-99db-455d-a863-72be41cc72f7",
   "metadata": {},
   "outputs": [],
   "source": []
  }
 ],
 "metadata": {
  "kernelspec": {
   "display_name": "Python 3 (ipykernel)",
   "language": "python",
   "name": "python3"
  },
  "language_info": {
   "codemirror_mode": {
    "name": "ipython",
    "version": 3
   },
   "file_extension": ".py",
   "mimetype": "text/x-python",
   "name": "python",
   "nbconvert_exporter": "python",
   "pygments_lexer": "ipython3",
   "version": "3.8.12"
  }
 },
 "nbformat": 4,
 "nbformat_minor": 5
}
